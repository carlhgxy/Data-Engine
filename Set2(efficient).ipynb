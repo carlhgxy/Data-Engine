{
 "cells": [
  {
   "cell_type": "code",
   "execution_count": 3,
   "metadata": {},
   "outputs": [
    {
     "name": "stdout",
     "output_type": "stream",
     "text": [
      "频繁项集： {1: {('山地自行车',): 4970, ('骑行服',): 3332, ('头盔',): 6439, ('旅行自行车',): 2167, ('车胎和内胎',): 9844, ('挡泥板',): 2121, ('帽子',): 2190, ('水壶和水壶架',): 4767, ('公路自行车',): 8068, ('手套',): 1430, ('袜子',): 568, ('短裤',): 1019, ('水袋背包',): 733, ('清洁剂',): 908, ('背心',): 562}, 2: {('头盔', '旅行自行车'): 893, ('头盔', '车胎和内胎'): 2769, ('头盔', '骑行服'): 694, ('车胎和内胎', '骑行服'): 660, ('山地自行车', '挡泥板'): 898, ('山地自行车', '水壶和水壶架'): 948, ('帽子', '水壶和水壶架'): 640, ('帽子', '骑行服'): 617, ('水壶和水壶架', '骑行服'): 653, ('公路自行车', '头盔'): 1353, ('公路自行车', '水壶和水壶架'): 986, ('头盔', '水壶和水壶架'): 1203, ('头盔', '山地自行车'): 934, ('头盔', '挡泥板'): 575, ('山地自行车', '车胎和内胎'): 910, ('头盔', '手套'): 602, ('手套', '车胎和内胎'): 557, ('旅行自行车', '水壶和水壶架'): 558, ('公路自行车', '车胎和内胎'): 909, ('公路自行车', '骑行服'): 802}}\n",
      "关联规则： [{旅行自行车} -> {头盔}, {头盔} -> {旅行自行车}, {车胎和内胎} -> {头盔}, {头盔} -> {车胎和内胎}, {骑行服} -> {头盔}, {头盔} -> {骑行服}, {骑行服} -> {车胎和内胎}, {挡泥板} -> {山地自行车}, {山地自行车} -> {挡泥板}, {水壶和水壶架} -> {山地自行车}, {山地自行车} -> {水壶和水壶架}, {水壶和水壶架} -> {帽子}, {帽子} -> {水壶和水壶架}, {骑行服} -> {帽子}, {帽子} -> {骑行服}, {骑行服} -> {水壶和水壶架}, {水壶和水壶架} -> {骑行服}, {头盔} -> {公路自行车}, {公路自行车} -> {头盔}, {水壶和水壶架} -> {公路自行车}, {公路自行车} -> {水壶和水壶架}, {水壶和水壶架} -> {头盔}, {头盔} -> {水壶和水壶架}, {山地自行车} -> {头盔}, {头盔} -> {山地自行车}, {挡泥板} -> {头盔}, {山地自行车} -> {车胎和内胎}, {手套} -> {头盔}, {手套} -> {车胎和内胎}, {水壶和水壶架} -> {旅行自行车}, {旅行自行车} -> {水壶和水壶架}, {公路自行车} -> {车胎和内胎}, {骑行服} -> {公路自行车}]\n"
     ]
    }
   ],
   "source": [
    "import numpy as np\n",
    "import pandas as pd\n",
    "from efficient_apriori import apriori\n",
    "\n",
    "\n",
    "# 数据加载\n",
    "data = pd.read_csv('./订单表.csv',encoding = 'gbk')\n",
    "# data.dtypes\n",
    "\n",
    "\n",
    "#产生交易ID，删除空格\n",
    "data['订单日期'] = data['订单日期'].astype(\"str\")\n",
    "data['客户ID'] = data['客户ID'].astype(\"str\")\n",
    "data['Transaction'] =  data['客户ID'] + data['订单日期']\n",
    "data['Transaction'] =  data['Transaction'].str.strip()\n",
    "\n",
    "# 更改字段名称\n",
    "data.rename(columns={'产品名称':'Item'}, inplace = True)\n",
    "\n",
    "\n",
    "# 统一小写\n",
    "data['Item'] = data['Item'].str.lower()\n",
    "# 去掉none项\n",
    "data = data.drop(data[data.Item == 'none'].index)\n",
    "# 删除重复项\n",
    "data = data.drop_duplicates(subset=['Transaction', 'Item'], keep='first')\n",
    "# 按Transaction排序\n",
    "data = data .sort_values(by='Transaction')\n",
    "\n",
    "# 得到一维数组orders_series，并且将Transaction作为index, value为Item取值\n",
    "\n",
    "orders_series = data.set_index('Transaction')['Item']\n",
    "# 将数据集进行格式转换\n",
    "transactions = []\n",
    "temp_index = 0\n",
    "for i, v in orders_series.items():\n",
    "\tif i != temp_index:\n",
    "\t\ttemp_set = set()\n",
    "\t\ttemp_index = i\n",
    "\t\ttemp_set.add(v)\n",
    "\t\ttransactions.append(temp_set)\n",
    "\telse:\n",
    "\t\ttemp_set.add(v)\n",
    "        \n",
    "orders_series.shape\n",
    "        \n",
    "itemsets, rules = apriori(transactions, min_support=0.02,  min_confidence=0.1)\n",
    "\n",
    "print(\"频繁项集：\", itemsets)\n",
    "print(\"关联规则：\", rules)"
   ]
  },
  {
   "cell_type": "code",
   "execution_count": null,
   "metadata": {},
   "outputs": [],
   "source": []
  }
 ],
 "metadata": {
  "kernelspec": {
   "display_name": "Python 3",
   "language": "python",
   "name": "python3"
  },
  "language_info": {
   "codemirror_mode": {
    "name": "ipython",
    "version": 3
   },
   "file_extension": ".py",
   "mimetype": "text/x-python",
   "name": "python",
   "nbconvert_exporter": "python",
   "pygments_lexer": "ipython3",
   "version": "3.7.3"
  }
 },
 "nbformat": 4,
 "nbformat_minor": 2
}
